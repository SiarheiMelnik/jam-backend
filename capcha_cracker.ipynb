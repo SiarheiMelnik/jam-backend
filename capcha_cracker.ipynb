{
  "nbformat": 4,
  "nbformat_minor": 0,
  "metadata": {
    "colab": {
      "name": "capcha_cracker.ipynb",
      "version": "0.3.2",
      "provenance": [],
      "include_colab_link": true
    },
    "kernelspec": {
      "name": "python3",
      "display_name": "Python 3"
    }
  },
  "cells": [
    {
      "cell_type": "markdown",
      "metadata": {
        "id": "view-in-github",
        "colab_type": "text"
      },
      "source": [
        "<a href=\"https://colab.research.google.com/github/SiarheiMelnik/jam-backend/blob/feat/capcha_cracker/capcha_cracker.ipynb\" target=\"_parent\"><img src=\"https://colab.research.google.com/assets/colab-badge.svg\" alt=\"Open In Colab\"/></a>"
      ]
    },
    {
      "metadata": {
        "id": "AcucMmz5tY5j",
        "colab_type": "code",
        "colab": {
          "base_uri": "https://localhost:8080/",
          "height": 34
        },
        "outputId": "40beae76-e10b-41d7-9f73-90def162ac39"
      },
      "cell_type": "code",
      "source": [
        "!apt-get -qq install -y libsm6 libxext6 && pip install -q -U opencv-python"
      ],
      "execution_count": 9,
      "outputs": [
        {
          "output_type": "stream",
          "text": [
            "Drive already mounted at /content/gdrive; to attempt to forcibly remount, call drive.mount(\"/content/gdrive\", force_remount=True).\n"
          ],
          "name": "stdout"
        }
      ]
    },
    {
      "metadata": {
        "id": "hPtzxfrdyEX1",
        "colab_type": "code",
        "colab": {}
      },
      "cell_type": "code",
      "source": [
        "import cv2\n",
        "import tensorflow as tf\n",
        "import glob\n",
        "import os\n",
        "from IPython.display import Image\n",
        "from google.colab import drive"
      ],
      "execution_count": 0,
      "outputs": []
    },
    {
      "metadata": {
        "id": "D6dzS_mvyIVd",
        "colab_type": "code",
        "colab": {}
      },
      "cell_type": "code",
      "source": [
        "print(tf.__version__)"
      ],
      "execution_count": 0,
      "outputs": []
    },
    {
      "metadata": {
        "id": "mp3Hc60kut0b",
        "colab_type": "code",
        "colab": {
          "base_uri": "https://localhost:8080/",
          "height": 34
        },
        "outputId": "a356534d-442f-46ea-c55b-16f63d45d052"
      },
      "cell_type": "code",
      "source": [
        "drive.mount('/content/gdrive')\n"
      ],
      "execution_count": 10,
      "outputs": [
        {
          "output_type": "stream",
          "text": [
            "1.12.0\n"
          ],
          "name": "stdout"
        }
      ]
    },
    {
      "metadata": {
        "id": "-vkXnfJfwWY4",
        "colab_type": "code",
        "colab": {
          "base_uri": "https://localhost:8080/",
          "height": 102
        },
        "outputId": "125e3480-4021-49f6-d18a-58f8e26bca05"
      },
      "cell_type": "code",
      "source": [
        "!ls '/content/gdrive/My Drive/capcha'"
      ],
      "execution_count": 7,
      "outputs": [
        {
          "output_type": "stream",
          "text": [
            "3ddt.png     4nau.png  961md.png  g5tf.png  pmhp.png  un7a.png\t xmer.png\n",
            "3fzj.png     5nuh.png  96md.png   kqdr.png  rgku.png  uqe7.png\t zwum.png\n",
            "3kjr.png     5wwq.png  ayv2.png   mzem.png  s7sr.png  w2n4.png\n",
            "46p111q.png  6cp5.png  bzru.png   nj2f.png  sgeb.png  wbbm.jpeg\n",
            "46pq.png     7hrc.png  exp6.png   p2b5.png  ugh4.png  wrn7.png\n"
          ],
          "name": "stdout"
        }
      ]
    },
    {
      "metadata": {
        "id": "1yJtSUU6wml1",
        "colab_type": "code",
        "colab": {
          "base_uri": "https://localhost:8080/",
          "height": 1105
        },
        "outputId": "fabe624b-f52a-43c5-f5dd-5a7fe9df61f2"
      },
      "cell_type": "code",
      "source": [
        "captcha_image_files =  glob.glob(os.path.join('/content/gdrive/My Drive/capcha', \"*\"))\n",
        "\n",
        "for (i, captcha_image_file) in enumerate(captcha_image_files):\n",
        "    print(\"[INFO] processing image {}/{}\".format(i + 1, len(captcha_image_files)))\n",
        "    \n",
        "    filename = os.path.basename(captcha_image_file)\n",
        "    captcha_correct_text = os.path.splitext(filename)[0]\n",
        "    print(captcha_correct_text)\n",
        "    \n",
        "    image = cv2.imread(captcha_image_file)\n",
        "    gray = cv2.cvtColor(image, cv2.COLOR_BGR2GRAY)\n",
        "    \n",
        "    \n"
      ],
      "execution_count": 12,
      "outputs": [
        {
          "output_type": "stream",
          "text": [
            "[INFO] processing image 1/32\n",
            "pmhp\n",
            "[INFO] processing image 2/32\n",
            "p2b5\n",
            "[INFO] processing image 3/32\n",
            "s7sr\n",
            "[INFO] processing image 4/32\n",
            "w2n4\n",
            "[INFO] processing image 5/32\n",
            "xmer\n",
            "[INFO] processing image 6/32\n",
            "wbbm\n",
            "[INFO] processing image 7/32\n",
            "ugh4\n",
            "[INFO] processing image 8/32\n",
            "rgku\n",
            "[INFO] processing image 9/32\n",
            "wrn7\n",
            "[INFO] processing image 10/32\n",
            "un7a\n",
            "[INFO] processing image 11/32\n",
            "uqe7\n",
            "[INFO] processing image 12/32\n",
            "zwum\n",
            "[INFO] processing image 13/32\n",
            "sgeb\n",
            "[INFO] processing image 14/32\n",
            "mzem\n",
            "[INFO] processing image 15/32\n",
            "kqdr\n",
            "[INFO] processing image 16/32\n",
            "3fzj\n",
            "[INFO] processing image 17/32\n",
            "46pq\n",
            "[INFO] processing image 18/32\n",
            "3ddt\n",
            "[INFO] processing image 19/32\n",
            "46p111q\n",
            "[INFO] processing image 20/32\n",
            "4nau\n",
            "[INFO] processing image 21/32\n",
            "3kjr\n",
            "[INFO] processing image 22/32\n",
            "5nuh\n",
            "[INFO] processing image 23/32\n",
            "6cp5\n",
            "[INFO] processing image 24/32\n",
            "g5tf\n",
            "[INFO] processing image 25/32\n",
            "ayv2\n",
            "[INFO] processing image 26/32\n",
            "exp6\n",
            "[INFO] processing image 27/32\n",
            "bzru\n",
            "[INFO] processing image 28/32\n",
            "7hrc\n",
            "[INFO] processing image 29/32\n",
            "5wwq\n",
            "[INFO] processing image 30/32\n",
            "961md\n",
            "[INFO] processing image 31/32\n",
            "nj2f\n",
            "[INFO] processing image 32/32\n",
            "96md\n"
          ],
          "name": "stdout"
        }
      ]
    }
  ]
}